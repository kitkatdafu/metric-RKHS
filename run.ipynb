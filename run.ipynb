{
 "cells": [
  {
   "cell_type": "code",
   "execution_count": 27,
   "metadata": {},
   "outputs": [],
   "source": [
    "import cupy as cp\n",
    "import cvxpy as cvp\n",
    "import warnings\n",
    "from kernel import RKHSKernel\n",
    "from solver import solve\n",
    "\n",
    "warnings.simplefilter(action=\"ignore\", category=FutureWarning)"
   ]
  },
  {
   "cell_type": "code",
   "execution_count": 28,
   "metadata": {},
   "outputs": [],
   "source": [
    "def calc_accuracy(y: cp.ndarray, phi: cp.ndarray, M_hat: cp.ndarray, T):\n",
    "    y_hat = []\n",
    "    for i in range(T):\n",
    "        a, b, c = i * 3, i * 3 + 1, i * 3 + 2\n",
    "        distance = (2 * phi[a] - phi[b] - phi[c]).T @ M_hat @ (phi[c] - phi[b])\n",
    "        y_hat.append(cp.sign(distance))\n",
    "    y_hat = cp.array(y_hat)\n",
    "    return cp.mean(y == y_hat)\n",
    "\n",
    "\n",
    "def triplets_distance(k: cp.ndarray, G: cp.ndarray, T: int, deterministic: bool):\n",
    "\n",
    "    y_s = []\n",
    "    distance_s = []\n",
    "\n",
    "    for i in range(T):\n",
    "        h, i, j = i * 3, i * 3 + 1, i * 3 + 2\n",
    "        distance = (2 * k[h] - k[i] - k[j]).T @ G @ (k[j] - k[i])\n",
    "\n",
    "        if deterministic:\n",
    "            y_t = cp.sign(distance)\n",
    "        else:\n",
    "            p_t = 1 / (1 + cp.exp(distance))\n",
    "            y_t = -1 if cp.random.rand() < p_t else 1\n",
    "\n",
    "        y_s.append(y_t)\n",
    "        distance_s.append(distance)\n",
    "\n",
    "    return cp.array(y_s), cp.array(distance_s)\n",
    "\n",
    "\n",
    "def get_triplets(x: cp.ndarray, T: int):\n",
    "\n",
    "    triplet_s = []\n",
    "    for i in range(T):\n",
    "        h, i, j = i * 3, i * 3 + 1, i * 3 + 2\n",
    "        triplet = [x[h], x[i], x[j]]\n",
    "        triplet_s.append(triplet)\n",
    "\n",
    "    return cp.array(triplet_s)"
   ]
  },
  {
   "cell_type": "code",
   "execution_count": 29,
   "metadata": {},
   "outputs": [],
   "source": [
    "# rank of linear functional\n",
    "r = 2\n",
    "# number of triplets\n",
    "T = 3000\n",
    "# number of validation triplets\n",
    "T_val = 1000\n",
    "# number of validation sets\n",
    "num_vals = 5\n",
    "# number of items\n",
    "n = 3 * T\n",
    "# number of validation items\n",
    "n_val = 3 * T_val\n",
    "# random seed\n",
    "seed = 0\n",
    "cp.random.seed(seed)\n",
    "# dimension of Euclidean space\n",
    "d = 7"
   ]
  },
  {
   "cell_type": "code",
   "execution_count": 30,
   "metadata": {},
   "outputs": [
    {
     "data": {
      "text/plain": [
       "(2, 7)"
      ]
     },
     "execution_count": 30,
     "metadata": {},
     "output_type": "execute_result"
    }
   ],
   "source": [
    "z = cp.random.multivariate_normal(cp.zeros(d), 1 / d * cp.eye(d), size=r)\n",
    "z.shape"
   ]
  },
  {
   "cell_type": "code",
   "execution_count": 31,
   "metadata": {},
   "outputs": [],
   "source": [
    "kernel_1 = RKHSKernel(\n",
    "    kernel_type=\"gaussian\", sigma=1, eigen_cutoff=20, eigen_threshold=None\n",
    ")\n",
    "kernel_2 = RKHSKernel(\n",
    "    kernel_type=\"gaussian\", sigma=1, eigen_cutoff=20, eigen_threshold=None\n",
    ")"
   ]
  },
  {
   "cell_type": "code",
   "execution_count": 32,
   "metadata": {},
   "outputs": [],
   "source": [
    "x = cp.random.multivariate_normal(cp.zeros(d), 1 / d * cp.eye(d), size=n)\n",
    "x_val_s = [\n",
    "    cp.random.multivariate_normal(cp.zeros(d), 1 / d * cp.eye(d), size=n_val)\n",
    "    for _ in range(num_vals)\n",
    "]"
   ]
  },
  {
   "cell_type": "code",
   "execution_count": 33,
   "metadata": {},
   "outputs": [
    {
     "name": "stdout",
     "output_type": "stream",
     "text": [
      "Computing the gram matrix\n",
      "Computing the gram matrix\n",
      "Computing the gram matrix\n",
      "Computing the gram matrix\n",
      "Computing the gram matrix\n",
      "Computing the gram matrix\n"
     ]
    }
   ],
   "source": [
    "k = kernel_1.gram_matrix(x, z)\n",
    "k_val_s = [kernel_1.gram_matrix(x_val, z) for x_val in x_val_s]"
   ]
  },
  {
   "cell_type": "code",
   "execution_count": 34,
   "metadata": {},
   "outputs": [],
   "source": [
    "G = cp.random.normal(0, 1, size=(r, r))\n",
    "G = G @ G.T"
   ]
  },
  {
   "cell_type": "code",
   "execution_count": 35,
   "metadata": {},
   "outputs": [],
   "source": [
    "y_s, distance_s = triplets_distance(k, G, T, deterministic=False)\n",
    "y_val_s, distance_val_s = list(\n",
    "    zip(*[triplets_distance(k_val, G, T_val, deterministic=True) for k_val in k_val_s])\n",
    ")"
   ]
  },
  {
   "cell_type": "code",
   "execution_count": 36,
   "metadata": {},
   "outputs": [
    {
     "name": "stdout",
     "output_type": "stream",
     "text": [
      "Computing the gram matrix\n",
      "Centering the gram matrix\n",
      "Computing the eigenvectors\n",
      "Forming the matrix A\n",
      "Projecting the data\n",
      "Projecting the validation data\n",
      "Computing the gram matrix\n",
      "Computing the gram matrix\n",
      "Computing the gram matrix\n",
      "Computing the gram matrix\n",
      "Computing the gram matrix\n"
     ]
    }
   ],
   "source": [
    "phi, phi_val_s = kernel_2.kpca(x, x_val_s)"
   ]
  },
  {
   "cell_type": "code",
   "execution_count": 37,
   "metadata": {},
   "outputs": [],
   "source": [
    "triplet_s = get_triplets(phi, T)\n",
    "triplet_val_s = [get_triplets(phi_val, T_val) for phi_val in phi_val_s]"
   ]
  },
  {
   "cell_type": "code",
   "execution_count": 38,
   "metadata": {},
   "outputs": [],
   "source": [
    "problem, M_hat = solve(\n",
    "    p=phi.shape[1],\n",
    "    triplets=triplet_s.get(),\n",
    "    y_true=y_s.get(),\n",
    "    gamma=float(cp.max(cp.abs(distance_s))),\n",
    "    lambda_=r,\n",
    "    loss_type=\"logistic\",\n",
    "    constraint_type=\"nuc\",\n",
    "    solver=\"MOSEK\",\n",
    "    verbose=False,\n",
    ")\n",
    "M_hat = cp.array(M_hat)"
   ]
  },
  {
   "cell_type": "code",
   "execution_count": 39,
   "metadata": {},
   "outputs": [
    {
     "name": "stdout",
     "output_type": "stream",
     "text": [
      "Train accuracy: 0.592\n",
      "Validation accuracies: 0.724 +/- 0.007\n"
     ]
    }
   ],
   "source": [
    "train_accuracy = calc_accuracy(y_s, phi, M_hat, T)\n",
    "validation_accurices = cp.array(\n",
    "    [\n",
    "        calc_accuracy(y_val, phi_val, M_hat, T_val)\n",
    "        for phi_val, y_val in zip(phi_val_s, y_val_s)\n",
    "    ]\n",
    ")\n",
    "print(f\"Train accuracy: {train_accuracy:.3f}\")\n",
    "print(\n",
    "    f\"Validation accuracies: {validation_accurices.mean():.3f} +/- {validation_accurices.std():.3f}\"\n",
    ")"
   ]
  },
  {
   "cell_type": "code",
   "execution_count": null,
   "metadata": {},
   "outputs": [],
   "source": []
  }
 ],
 "metadata": {
  "kernelspec": {
   "display_name": "rkhs",
   "language": "python",
   "name": "python3"
  },
  "language_info": {
   "codemirror_mode": {
    "name": "ipython",
    "version": 3
   },
   "file_extension": ".py",
   "mimetype": "text/x-python",
   "name": "python",
   "nbconvert_exporter": "python",
   "pygments_lexer": "ipython3",
   "version": "3.12.6"
  }
 },
 "nbformat": 4,
 "nbformat_minor": 2
}
