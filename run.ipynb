{
 "cells": [
  {
   "cell_type": "code",
   "execution_count": 25,
   "metadata": {},
   "outputs": [],
   "source": [
    "import numpy as cp\n",
    "import cvxpy as cvp\n",
    "import warnings\n",
    "from kernel import RKHSKernel\n",
    "from solver import solve\n",
    "\n",
    "warnings.simplefilter(action=\"ignore\", category=FutureWarning)"
   ]
  },
  {
   "cell_type": "code",
   "execution_count": 26,
   "metadata": {},
   "outputs": [],
   "source": [
    "def calc_accuracy(y: cp.ndarray, phi: cp.ndarray, M_hat: cp.ndarray, T):\n",
    "    y_hat = []\n",
    "    for i in range(T):\n",
    "        a, b, c = i * 3, i * 3 + 1, i * 3 + 2\n",
    "        distance = (2 * phi[a] - phi[b] - phi[c]).T @ M_hat @ (phi[c] - phi[b])\n",
    "        y_hat.append(cp.sign(distance))\n",
    "    y_hat = cp.array(y_hat)\n",
    "    return cp.mean(y == y_hat)\n",
    "\n",
    "\n",
    "def triplets_distance(k: cp.ndarray, G: cp.ndarray, T: int, deterministic: bool):\n",
    "\n",
    "    y_s = []\n",
    "    distance_s = []\n",
    "\n",
    "    for i in range(T):\n",
    "        h, i, j = i * 3, i * 3 + 1, i * 3 + 2\n",
    "        distance = (2 * k[h] - k[i] - k[j]).T @ G @ (k[j] - k[i])\n",
    "\n",
    "        if deterministic:\n",
    "            y_t = cp.sign(distance)\n",
    "        else:\n",
    "            p_t = 1 / (1 + cp.exp(distance))\n",
    "            y_t = -1 if cp.random.rand() < p_t else 1\n",
    "\n",
    "        y_s.append(y_t)\n",
    "        distance_s.append(distance)\n",
    "\n",
    "    return cp.array(y_s), cp.array(distance_s)\n",
    "\n",
    "\n",
    "def get_triplets(x: cp.ndarray, T: int):\n",
    "\n",
    "    triplet_s = []\n",
    "    for i in range(T):\n",
    "        h, i, j = i * 3, i * 3 + 1, i * 3 + 2\n",
    "        triplet = [x[h], x[i], x[j]]\n",
    "        triplet_s.append(triplet)\n",
    "\n",
    "    return cp.array(triplet_s)"
   ]
  },
  {
   "cell_type": "code",
   "execution_count": 27,
   "metadata": {},
   "outputs": [],
   "source": [
    "# rank of linear functional\n",
    "r = 2\n",
    "# number of triplets\n",
    "T = 1000\n",
    "# number of validation triplets\n",
    "T_val = 1000\n",
    "# number of validation sets\n",
    "num_vals = 5\n",
    "# number of items\n",
    "n = 3 * T\n",
    "# number of validation items\n",
    "n_val = 3 * T_val\n",
    "# random seed\n",
    "seed = 0\n",
    "cp.random.seed(seed)\n",
    "# dimension of Euclidean space\n",
    "d = 7"
   ]
  },
  {
   "cell_type": "code",
   "execution_count": 28,
   "metadata": {},
   "outputs": [
    {
     "data": {
      "text/plain": [
       "(2, 7)"
      ]
     },
     "execution_count": 28,
     "metadata": {},
     "output_type": "execute_result"
    }
   ],
   "source": [
    "z = cp.random.multivariate_normal(cp.zeros(d), 1 / d * cp.eye(d), size=r)\n",
    "z.shape"
   ]
  },
  {
   "cell_type": "code",
   "execution_count": 29,
   "metadata": {},
   "outputs": [],
   "source": [
    "kernel_1 = RKHSKernel(\n",
    "    kernel_type=\"gaussian\", sigma=1, eigen_cutoff=20, eigen_threshold=None\n",
    ")\n",
    "kernel_2 = RKHSKernel(\n",
    "    kernel_type=\"gaussian\", sigma=1, eigen_cutoff=20, eigen_threshold=None\n",
    ")"
   ]
  },
  {
   "cell_type": "code",
   "execution_count": 30,
   "metadata": {},
   "outputs": [],
   "source": [
    "x = cp.random.multivariate_normal(cp.zeros(d), 1 / d * cp.eye(d), size=n)\n",
    "x_val_s = [\n",
    "    cp.random.multivariate_normal(cp.zeros(d), 1 / d * cp.eye(d), size=n_val)\n",
    "    for _ in range(num_vals)\n",
    "]"
   ]
  },
  {
   "cell_type": "code",
   "execution_count": 31,
   "metadata": {},
   "outputs": [
    {
     "name": "stdout",
     "output_type": "stream",
     "text": [
      "Computing the gram matrix\n",
      "Computing the gram matrix\n",
      "Computing the gram matrix\n",
      "Computing the gram matrix\n",
      "Computing the gram matrix\n",
      "Computing the gram matrix\n"
     ]
    }
   ],
   "source": [
    "k = kernel_1.gram_matrix(x, z)\n",
    "k_val_s = [kernel_1.gram_matrix(x_val, z) for x_val in x_val_s]"
   ]
  },
  {
   "cell_type": "code",
   "execution_count": 32,
   "metadata": {},
   "outputs": [],
   "source": [
    "G = cp.random.normal(0, 1, size=(r, r))\n",
    "G = G @ G.T"
   ]
  },
  {
   "cell_type": "code",
   "execution_count": 33,
   "metadata": {},
   "outputs": [],
   "source": [
    "y_s, distance_s = triplets_distance(k, G, T, deterministic=False)\n",
    "y_val_s, distance_val_s = list(\n",
    "    zip(*[triplets_distance(k_val, G, T_val, deterministic=True) for k_val in k_val_s])\n",
    ")"
   ]
  },
  {
   "cell_type": "code",
   "execution_count": 34,
   "metadata": {},
   "outputs": [
    {
     "name": "stdout",
     "output_type": "stream",
     "text": [
      "Computing the gram matrix\n",
      "Centering the gram matrix\n",
      "Computing the eigenvectors\n",
      "Forming the matrix A\n",
      "Projecting the data\n",
      "Projecting the validation data\n",
      "Computing the gram matrix\n",
      "Computing the gram matrix\n",
      "Computing the gram matrix\n",
      "Computing the gram matrix\n",
      "Computing the gram matrix\n"
     ]
    }
   ],
   "source": [
    "phi, phi_val_s = kernel_2.kpca(x, x_val_s)"
   ]
  },
  {
   "cell_type": "code",
   "execution_count": 35,
   "metadata": {},
   "outputs": [],
   "source": [
    "triplet_s = get_triplets(phi, T)\n",
    "triplet_val_s = [get_triplets(phi_val, T_val) for phi_val in phi_val_s]"
   ]
  },
  {
   "cell_type": "code",
   "execution_count": 36,
   "metadata": {},
   "outputs": [
    {
     "name": "stdout",
     "output_type": "stream",
     "text": [
      "Failure:interrupted\n"
     ]
    },
    {
     "ename": "SolverError",
     "evalue": "Solver 'SCS' failed. Try another solver, or solve with verbose=True for more information.",
     "output_type": "error",
     "traceback": [
      "\u001b[0;31m---------------------------------------------------------------------------\u001b[0m",
      "\u001b[0;31mSolverError\u001b[0m                               Traceback (most recent call last)",
      "Cell \u001b[0;32mIn[36], line 1\u001b[0m\n\u001b[0;32m----> 1\u001b[0m problem, M_hat \u001b[38;5;241m=\u001b[39m \u001b[43msolve\u001b[49m\u001b[43m(\u001b[49m\n\u001b[1;32m      2\u001b[0m \u001b[43m    \u001b[49m\u001b[43mp\u001b[49m\u001b[38;5;241;43m=\u001b[39;49m\u001b[43mphi\u001b[49m\u001b[38;5;241;43m.\u001b[39;49m\u001b[43mshape\u001b[49m\u001b[43m[\u001b[49m\u001b[38;5;241;43m1\u001b[39;49m\u001b[43m]\u001b[49m\u001b[43m,\u001b[49m\n\u001b[1;32m      3\u001b[0m \u001b[43m    \u001b[49m\u001b[43mtriplets\u001b[49m\u001b[38;5;241;43m=\u001b[39;49m\u001b[43mtriplet_s\u001b[49m\u001b[43m,\u001b[49m\n\u001b[1;32m      4\u001b[0m \u001b[43m    \u001b[49m\u001b[43my_true\u001b[49m\u001b[38;5;241;43m=\u001b[39;49m\u001b[43my_s\u001b[49m\u001b[43m,\u001b[49m\n\u001b[1;32m      5\u001b[0m \u001b[43m    \u001b[49m\u001b[43mgamma\u001b[49m\u001b[38;5;241;43m=\u001b[39;49m\u001b[38;5;28;43mfloat\u001b[39;49m\u001b[43m(\u001b[49m\u001b[43mcp\u001b[49m\u001b[38;5;241;43m.\u001b[39;49m\u001b[43mmax\u001b[49m\u001b[43m(\u001b[49m\u001b[43mcp\u001b[49m\u001b[38;5;241;43m.\u001b[39;49m\u001b[43mabs\u001b[49m\u001b[43m(\u001b[49m\u001b[43mdistance_s\u001b[49m\u001b[43m)\u001b[49m\u001b[43m)\u001b[49m\u001b[43m)\u001b[49m\u001b[43m,\u001b[49m\n\u001b[1;32m      6\u001b[0m \u001b[43m    \u001b[49m\u001b[43mlambda_\u001b[49m\u001b[38;5;241;43m=\u001b[39;49m\u001b[43mr\u001b[49m\u001b[43m,\u001b[49m\n\u001b[1;32m      7\u001b[0m \u001b[43m    \u001b[49m\u001b[43mloss_type\u001b[49m\u001b[38;5;241;43m=\u001b[39;49m\u001b[38;5;124;43m\"\u001b[39;49m\u001b[38;5;124;43mlogistic\u001b[39;49m\u001b[38;5;124;43m\"\u001b[39;49m\u001b[43m,\u001b[49m\n\u001b[1;32m      8\u001b[0m \u001b[43m    \u001b[49m\u001b[43mconstraint_type\u001b[49m\u001b[38;5;241;43m=\u001b[39;49m\u001b[38;5;124;43m\"\u001b[39;49m\u001b[38;5;124;43mnuc\u001b[39;49m\u001b[38;5;124;43m\"\u001b[39;49m\u001b[43m,\u001b[49m\n\u001b[1;32m      9\u001b[0m \u001b[43m    \u001b[49m\u001b[43msolver\u001b[49m\u001b[38;5;241;43m=\u001b[39;49m\u001b[38;5;124;43m\"\u001b[39;49m\u001b[38;5;124;43mSCS\u001b[39;49m\u001b[38;5;124;43m\"\u001b[39;49m\u001b[43m,\u001b[49m\n\u001b[1;32m     10\u001b[0m \u001b[43m    \u001b[49m\u001b[43mverbose\u001b[49m\u001b[38;5;241;43m=\u001b[39;49m\u001b[38;5;28;43;01mFalse\u001b[39;49;00m\u001b[43m,\u001b[49m\n\u001b[1;32m     11\u001b[0m \u001b[43m)\u001b[49m\n\u001b[1;32m     12\u001b[0m M_hat \u001b[38;5;241m=\u001b[39m cp\u001b[38;5;241m.\u001b[39marray(M_hat)\n",
      "File \u001b[0;32m~/projects/metric-RKHS/solver.py:43\u001b[0m, in \u001b[0;36msolve\u001b[0;34m(p, triplets, y_true, gamma, lambda_, loss_type, constraint_type, solver, verbose)\u001b[0m\n\u001b[1;32m     39\u001b[0m constraints\u001b[38;5;241m.\u001b[39mappend(cp\u001b[38;5;241m.\u001b[39mabs(M_t_K_s) \u001b[38;5;241m<\u001b[39m\u001b[38;5;241m=\u001b[39m gamma)\n\u001b[1;32m     41\u001b[0m problem \u001b[38;5;241m=\u001b[39m cp\u001b[38;5;241m.\u001b[39mProblem(cp\u001b[38;5;241m.\u001b[39mMinimize(risk), constraints\u001b[38;5;241m=\u001b[39mconstraints)\n\u001b[0;32m---> 43\u001b[0m \u001b[43mproblem\u001b[49m\u001b[38;5;241;43m.\u001b[39;49m\u001b[43msolve\u001b[49m\u001b[43m(\u001b[49m\u001b[43msolver\u001b[49m\u001b[38;5;241;43m=\u001b[39;49m\u001b[43msolver\u001b[49m\u001b[43m,\u001b[49m\u001b[43m \u001b[49m\u001b[43mverbose\u001b[49m\u001b[38;5;241;43m=\u001b[39;49m\u001b[43mverbose\u001b[49m\u001b[43m)\u001b[49m\n\u001b[1;32m     45\u001b[0m \u001b[38;5;28;01mreturn\u001b[39;00m problem, K_hat\u001b[38;5;241m.\u001b[39mvalue\n",
      "File \u001b[0;32m~/miniconda3/envs/rkhs/lib/python3.12/site-packages/cvxpy/problems/problem.py:503\u001b[0m, in \u001b[0;36mProblem.solve\u001b[0;34m(self, *args, **kwargs)\u001b[0m\n\u001b[1;32m    501\u001b[0m \u001b[38;5;28;01melse\u001b[39;00m:\n\u001b[1;32m    502\u001b[0m     solve_func \u001b[38;5;241m=\u001b[39m Problem\u001b[38;5;241m.\u001b[39m_solve\n\u001b[0;32m--> 503\u001b[0m \u001b[38;5;28;01mreturn\u001b[39;00m \u001b[43msolve_func\u001b[49m\u001b[43m(\u001b[49m\u001b[38;5;28;43mself\u001b[39;49m\u001b[43m,\u001b[49m\u001b[43m \u001b[49m\u001b[38;5;241;43m*\u001b[39;49m\u001b[43margs\u001b[49m\u001b[43m,\u001b[49m\u001b[43m \u001b[49m\u001b[38;5;241;43m*\u001b[39;49m\u001b[38;5;241;43m*\u001b[39;49m\u001b[43mkwargs\u001b[49m\u001b[43m)\u001b[49m\n",
      "File \u001b[0;32m~/miniconda3/envs/rkhs/lib/python3.12/site-packages/cvxpy/problems/problem.py:1090\u001b[0m, in \u001b[0;36mProblem._solve\u001b[0;34m(self, solver, warm_start, verbose, gp, qcp, requires_grad, enforce_dpp, ignore_dpp, canon_backend, **kwargs)\u001b[0m\n\u001b[1;32m   1088\u001b[0m end \u001b[38;5;241m=\u001b[39m time\u001b[38;5;241m.\u001b[39mtime()\n\u001b[1;32m   1089\u001b[0m \u001b[38;5;28mself\u001b[39m\u001b[38;5;241m.\u001b[39m_solve_time \u001b[38;5;241m=\u001b[39m end \u001b[38;5;241m-\u001b[39m start\n\u001b[0;32m-> 1090\u001b[0m \u001b[38;5;28;43mself\u001b[39;49m\u001b[38;5;241;43m.\u001b[39;49m\u001b[43munpack_results\u001b[49m\u001b[43m(\u001b[49m\u001b[43msolution\u001b[49m\u001b[43m,\u001b[49m\u001b[43m \u001b[49m\u001b[43msolving_chain\u001b[49m\u001b[43m,\u001b[49m\u001b[43m \u001b[49m\u001b[43minverse_data\u001b[49m\u001b[43m)\u001b[49m\n\u001b[1;32m   1091\u001b[0m \u001b[38;5;28;01mif\u001b[39;00m verbose:\n\u001b[1;32m   1092\u001b[0m     \u001b[38;5;28mprint\u001b[39m(_FOOTER)\n",
      "File \u001b[0;32m~/miniconda3/envs/rkhs/lib/python3.12/site-packages/cvxpy/problems/problem.py:1415\u001b[0m, in \u001b[0;36mProblem.unpack_results\u001b[0;34m(self, solution, chain, inverse_data)\u001b[0m\n\u001b[1;32m   1413\u001b[0m     warnings\u001b[38;5;241m.\u001b[39mwarn(INF_OR_UNB_MESSAGE)\n\u001b[1;32m   1414\u001b[0m \u001b[38;5;28;01mif\u001b[39;00m solution\u001b[38;5;241m.\u001b[39mstatus \u001b[38;5;129;01min\u001b[39;00m s\u001b[38;5;241m.\u001b[39mERROR:\n\u001b[0;32m-> 1415\u001b[0m     \u001b[38;5;28;01mraise\u001b[39;00m error\u001b[38;5;241m.\u001b[39mSolverError(\n\u001b[1;32m   1416\u001b[0m             \u001b[38;5;124m\"\u001b[39m\u001b[38;5;124mSolver \u001b[39m\u001b[38;5;124m'\u001b[39m\u001b[38;5;132;01m%s\u001b[39;00m\u001b[38;5;124m'\u001b[39m\u001b[38;5;124m failed. \u001b[39m\u001b[38;5;124m\"\u001b[39m \u001b[38;5;241m%\u001b[39m chain\u001b[38;5;241m.\u001b[39msolver\u001b[38;5;241m.\u001b[39mname() \u001b[38;5;241m+\u001b[39m\n\u001b[1;32m   1417\u001b[0m             \u001b[38;5;124m\"\u001b[39m\u001b[38;5;124mTry another solver, or solve with verbose=True for more \u001b[39m\u001b[38;5;124m\"\u001b[39m\n\u001b[1;32m   1418\u001b[0m             \u001b[38;5;124m\"\u001b[39m\u001b[38;5;124minformation.\u001b[39m\u001b[38;5;124m\"\u001b[39m)\n\u001b[1;32m   1420\u001b[0m \u001b[38;5;28mself\u001b[39m\u001b[38;5;241m.\u001b[39munpack(solution)\n\u001b[1;32m   1421\u001b[0m \u001b[38;5;28mself\u001b[39m\u001b[38;5;241m.\u001b[39m_solver_stats \u001b[38;5;241m=\u001b[39m SolverStats\u001b[38;5;241m.\u001b[39mfrom_dict(\u001b[38;5;28mself\u001b[39m\u001b[38;5;241m.\u001b[39m_solution\u001b[38;5;241m.\u001b[39mattr,\n\u001b[1;32m   1422\u001b[0m                                  chain\u001b[38;5;241m.\u001b[39msolver\u001b[38;5;241m.\u001b[39mname())\n",
      "\u001b[0;31mSolverError\u001b[0m: Solver 'SCS' failed. Try another solver, or solve with verbose=True for more information."
     ]
    }
   ],
   "source": [
    "problem, M_hat = solve(\n",
    "    p=phi.shape[1],\n",
    "    triplets=triplet_s,\n",
    "    y_true=y_s,\n",
    "    gamma=float(cp.max(cp.abs(distance_s))),\n",
    "    lambda_=r,\n",
    "    loss_type=\"logistic\",\n",
    "    constraint_type=\"nuc\",\n",
    "    solver=\"MOSEK\",\n",
    "    verbose=False,\n",
    ")\n",
    "M_hat = cp.array(M_hat)"
   ]
  },
  {
   "cell_type": "code",
   "execution_count": null,
   "metadata": {},
   "outputs": [],
   "source": [
    "train_accuracy = calc_accuracy(y_s, phi, M_hat, T)\n",
    "validation_accurices = cp.array(\n",
    "    [\n",
    "        calc_accuracy(y_val, phi_val, M_hat, T_val)\n",
    "        for phi_val, y_val in zip(phi_val_s, y_val_s)\n",
    "    ]\n",
    ")\n",
    "print(f\"Train accuracy: {train_accuracy:.3f}\")\n",
    "print(\n",
    "    f\"Validation accuracies: {validation_accurices.mean():.3f} +/- {validation_accurices.std():.3f}\"\n",
    ")"
   ]
  },
  {
   "cell_type": "code",
   "execution_count": null,
   "metadata": {},
   "outputs": [],
   "source": []
  }
 ],
 "metadata": {
  "kernelspec": {
   "display_name": "rkhs",
   "language": "python",
   "name": "python3"
  },
  "language_info": {
   "codemirror_mode": {
    "name": "ipython",
    "version": 3
   },
   "file_extension": ".py",
   "mimetype": "text/x-python",
   "name": "python",
   "nbconvert_exporter": "python",
   "pygments_lexer": "ipython3",
   "version": "3.12.2"
  }
 },
 "nbformat": 4,
 "nbformat_minor": 2
}
